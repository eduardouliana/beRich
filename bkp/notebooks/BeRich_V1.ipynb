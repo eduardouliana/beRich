{
  "nbformat": 4,
  "nbformat_minor": 0,
  "metadata": {
    "colab": {
      "name": "BeRich-V1.ipynb",
      "provenance": [],
      "collapsed_sections": [],
      "include_colab_link": true
    },
    "kernelspec": {
      "name": "python3",
      "display_name": "Python 3"
    }
  },
  "cells": [
    {
      "cell_type": "markdown",
      "metadata": {
        "id": "view-in-github",
        "colab_type": "text"
      },
      "source": [
        "<a href=\"https://colab.research.google.com/github/eduardouliana/beRich/blob/master/notebooks/BeRich_V1.ipynb\" target=\"_parent\"><img src=\"https://colab.research.google.com/assets/colab-badge.svg\" alt=\"Open In Colab\"/></a>"
      ]
    },
    {
      "cell_type": "code",
      "metadata": {
        "id": "S3GmA6t85LNg",
        "colab": {
          "base_uri": "https://localhost:8080/"
        },
        "outputId": "63ccb1df-0ad1-456f-91f5-fe397d337ce3"
      },
      "source": [
        "!wget https://raw.githubusercontent.com/eduardouliana/beRich/master/resources/alldraws.CSV"
      ],
      "execution_count": null,
      "outputs": [
        {
          "output_type": "stream",
          "text": [
            "--2020-11-11 01:42:36--  https://raw.githubusercontent.com/eduardouliana/beRich/master/resources/alldraws.CSV\n",
            "Resolving raw.githubusercontent.com (raw.githubusercontent.com)... 151.101.0.133, 151.101.64.133, 151.101.128.133, ...\n",
            "Connecting to raw.githubusercontent.com (raw.githubusercontent.com)|151.101.0.133|:443... connected.\n",
            "HTTP request sent, awaiting response... 200 OK\n",
            "Length: 114641 (112K) [text/plain]\n",
            "Saving to: ‘alldraws.CSV’\n",
            "\n",
            "alldraws.CSV        100%[===================>] 111.95K  --.-KB/s    in 0.04s   \n",
            "\n",
            "2020-11-11 01:42:37 (2.90 MB/s) - ‘alldraws.CSV’ saved [114641/114641]\n",
            "\n"
          ],
          "name": "stdout"
        }
      ]
    },
    {
      "cell_type": "code",
      "metadata": {
        "id": "ZGrFmBuk7NDw"
      },
      "source": [
        "import pandas as pd"
      ],
      "execution_count": null,
      "outputs": []
    },
    {
      "cell_type": "code",
      "metadata": {
        "id": "n62o7q677idM",
        "colab": {
          "base_uri": "https://localhost:8080/",
          "height": 204
        },
        "outputId": "e4e57a7e-2b81-4c3f-cb1d-b085a2803ddb"
      },
      "source": [
        "data = pd.read_csv(\"/content/alldraws.CSV\") \n",
        "\n",
        "data.head()"
      ],
      "execution_count": null,
      "outputs": [
        {
          "output_type": "execute_result",
          "data": {
            "text/html": [
              "<div>\n",
              "<style scoped>\n",
              "    .dataframe tbody tr th:only-of-type {\n",
              "        vertical-align: middle;\n",
              "    }\n",
              "\n",
              "    .dataframe tbody tr th {\n",
              "        vertical-align: top;\n",
              "    }\n",
              "\n",
              "    .dataframe thead th {\n",
              "        text-align: right;\n",
              "    }\n",
              "</style>\n",
              "<table border=\"1\" class=\"dataframe\">\n",
              "  <thead>\n",
              "    <tr style=\"text-align: right;\">\n",
              "      <th></th>\n",
              "      <th>Concurso</th>\n",
              "      <th>Data</th>\n",
              "      <th>bola1</th>\n",
              "      <th>bola2</th>\n",
              "      <th>bola3</th>\n",
              "      <th>bola4</th>\n",
              "      <th>bola5</th>\n",
              "      <th>bola6</th>\n",
              "      <th>bola7</th>\n",
              "      <th>bola8</th>\n",
              "      <th>bola9</th>\n",
              "      <th>bola10</th>\n",
              "      <th>bola11</th>\n",
              "      <th>bola12</th>\n",
              "      <th>bola13</th>\n",
              "      <th>bola14</th>\n",
              "      <th>bola15</th>\n",
              "    </tr>\n",
              "  </thead>\n",
              "  <tbody>\n",
              "    <tr>\n",
              "      <th>0</th>\n",
              "      <td>2078</td>\n",
              "      <td>10/11/2020</td>\n",
              "      <td>13</td>\n",
              "      <td>24</td>\n",
              "      <td>2</td>\n",
              "      <td>1</td>\n",
              "      <td>15</td>\n",
              "      <td>22</td>\n",
              "      <td>3</td>\n",
              "      <td>4</td>\n",
              "      <td>21</td>\n",
              "      <td>17</td>\n",
              "      <td>19</td>\n",
              "      <td>6</td>\n",
              "      <td>12</td>\n",
              "      <td>18</td>\n",
              "      <td>25</td>\n",
              "    </tr>\n",
              "    <tr>\n",
              "      <th>1</th>\n",
              "      <td>2077</td>\n",
              "      <td>09/11/2020</td>\n",
              "      <td>24</td>\n",
              "      <td>16</td>\n",
              "      <td>15</td>\n",
              "      <td>12</td>\n",
              "      <td>21</td>\n",
              "      <td>7</td>\n",
              "      <td>13</td>\n",
              "      <td>11</td>\n",
              "      <td>14</td>\n",
              "      <td>8</td>\n",
              "      <td>25</td>\n",
              "      <td>5</td>\n",
              "      <td>3</td>\n",
              "      <td>4</td>\n",
              "      <td>10</td>\n",
              "    </tr>\n",
              "    <tr>\n",
              "      <th>2</th>\n",
              "      <td>2076</td>\n",
              "      <td>07/11/2020</td>\n",
              "      <td>3</td>\n",
              "      <td>13</td>\n",
              "      <td>6</td>\n",
              "      <td>1</td>\n",
              "      <td>9</td>\n",
              "      <td>22</td>\n",
              "      <td>25</td>\n",
              "      <td>5</td>\n",
              "      <td>15</td>\n",
              "      <td>24</td>\n",
              "      <td>10</td>\n",
              "      <td>14</td>\n",
              "      <td>18</td>\n",
              "      <td>12</td>\n",
              "      <td>11</td>\n",
              "    </tr>\n",
              "    <tr>\n",
              "      <th>3</th>\n",
              "      <td>2075</td>\n",
              "      <td>06/11/2020</td>\n",
              "      <td>2</td>\n",
              "      <td>9</td>\n",
              "      <td>8</td>\n",
              "      <td>7</td>\n",
              "      <td>17</td>\n",
              "      <td>13</td>\n",
              "      <td>25</td>\n",
              "      <td>23</td>\n",
              "      <td>14</td>\n",
              "      <td>24</td>\n",
              "      <td>19</td>\n",
              "      <td>11</td>\n",
              "      <td>12</td>\n",
              "      <td>5</td>\n",
              "      <td>3</td>\n",
              "    </tr>\n",
              "    <tr>\n",
              "      <th>4</th>\n",
              "      <td>2074</td>\n",
              "      <td>05/11/2020</td>\n",
              "      <td>15</td>\n",
              "      <td>3</td>\n",
              "      <td>6</td>\n",
              "      <td>2</td>\n",
              "      <td>4</td>\n",
              "      <td>24</td>\n",
              "      <td>22</td>\n",
              "      <td>21</td>\n",
              "      <td>9</td>\n",
              "      <td>5</td>\n",
              "      <td>20</td>\n",
              "      <td>25</td>\n",
              "      <td>18</td>\n",
              "      <td>14</td>\n",
              "      <td>19</td>\n",
              "    </tr>\n",
              "  </tbody>\n",
              "</table>\n",
              "</div>"
            ],
            "text/plain": [
              "   Concurso        Data  bola1  bola2  ...  bola12  bola13  bola14  bola15\n",
              "0      2078  10/11/2020     13     24  ...       6      12      18      25\n",
              "1      2077  09/11/2020     24     16  ...       5       3       4      10\n",
              "2      2076  07/11/2020      3     13  ...      14      18      12      11\n",
              "3      2075  06/11/2020      2      9  ...      11      12       5       3\n",
              "4      2074  05/11/2020     15      3  ...      25      18      14      19\n",
              "\n",
              "[5 rows x 17 columns]"
            ]
          },
          "metadata": {
            "tags": []
          },
          "execution_count": 12
        }
      ]
    },
    {
      "cell_type": "code",
      "metadata": {
        "id": "Jyr8vjbQ83mb",
        "colab": {
          "base_uri": "https://localhost:8080/"
        },
        "outputId": "7fc61c68-e37e-44da-94e1-dc2a2e7dbcb7"
      },
      "source": [
        "df = pd.DataFrame(data, columns= ['Concurso', 'Data', 'bola1', 'bola2', 'bola3', 'bola4', 'bola5', 'bola6', 'bola7', 'bola8', 'bola9', 'bola10', 'bola11', 'bola12', 'bola13', 'bola14', 'bola15'])\n",
        "\n",
        "dups_color = df.pivot_table(index=['Concurso', 'Data'], aggfunc='size')\n",
        "print (dups_color)"
      ],
      "execution_count": null,
      "outputs": [
        {
          "output_type": "stream",
          "text": [
            "Concurso  Data      \n",
            "1         29/09/2003    1\n",
            "2         06/10/2003    1\n",
            "3         13/10/2003    1\n",
            "4         20/10/2003    1\n",
            "5         27/10/2003    1\n",
            "                       ..\n",
            "2074      05/11/2020    1\n",
            "2075      06/11/2020    1\n",
            "2076      07/11/2020    1\n",
            "2077      09/11/2020    1\n",
            "2078      10/11/2020    1\n",
            "Length: 2078, dtype: int64\n"
          ],
          "name": "stdout"
        }
      ]
    }
  ]
}